{
 "cells": [
  {
   "cell_type": "markdown",
   "id": "abb81c92",
   "metadata": {},
   "source": [
    "# Záróvizsga igazságossága"
   ]
  },
  {
   "cell_type": "markdown",
   "id": "5dc3de0f",
   "metadata": {},
   "source": [
    "### Demo"
   ]
  },
  {
   "cell_type": "code",
   "execution_count": 1,
   "id": "b3155dff",
   "metadata": {},
   "outputs": [],
   "source": [
    "import pandas as pd"
   ]
  },
  {
   "cell_type": "markdown",
   "id": "60498374",
   "metadata": {},
   "source": [
    "Amit tudni kell az igazságossághoz: \n",
    " 1. milyen tárgyakat tanít a tanár   \n",
    " 2. ~az egyes tárgyakhoz hány tanár és hallgató jut -> átlagos hallgatók száma / tanár~\n",
    " 3. elnökként hányszor van beosztva (ha nem vizsgázató) --> WL\n",
    " 4. tagként hányszor van beosztva (ha nem elnök)        --> WL kiszámításhoz\n",
    " 5. vizsgáztatóként hányszor van beosztva (ennek számolja alapból) --> WL\n",
    " \n",
    " (3-5. minden egyes beosztás egy 3 elemű vektor lehet, pl. az `[1 0 1]` jelentése, hogy az adott vizsgán a tanár elnökként és\n",
    " vizsgáztatóként volt jelen) "
   ]
  },
  {
   "cell_type": "markdown",
   "id": "89dc5fcb",
   "metadata": {},
   "source": [
    "Hogyan használjuk a rendelkezésre álló adatokat? \n",
    "Pl. az alábbi számok jellemzik 3 tanár tárgyainak és vizsgázatott hallgatóinak számát. \n"
   ]
  },
  {
   "cell_type": "code",
   "execution_count": 2,
   "id": "6f8c5e84",
   "metadata": {},
   "outputs": [
    {
     "data": {
      "text/html": [
       "<div>\n",
       "<style scoped>\n",
       "    .dataframe tbody tr th:only-of-type {\n",
       "        vertical-align: middle;\n",
       "    }\n",
       "\n",
       "    .dataframe tbody tr th {\n",
       "        vertical-align: top;\n",
       "    }\n",
       "\n",
       "    .dataframe thead th {\n",
       "        text-align: right;\n",
       "    }\n",
       "</style>\n",
       "<table border=\"1\" class=\"dataframe\">\n",
       "  <thead>\n",
       "    <tr style=\"text-align: right;\">\n",
       "      <th></th>\n",
       "      <th>examines</th>\n",
       "      <th>total_courses</th>\n",
       "      <th>exams_per_course</th>\n",
       "      <th>students_per_course</th>\n",
       "      <th>spc_sum</th>\n",
       "    </tr>\n",
       "  </thead>\n",
       "  <tbody>\n",
       "    <tr>\n",
       "      <th>0</th>\n",
       "      <td>34</td>\n",
       "      <td>3</td>\n",
       "      <td>{1: 8, 2: 10, 3: 16}</td>\n",
       "      <td>{1: 8, 2: 10, 3: 8}</td>\n",
       "      <td>26</td>\n",
       "    </tr>\n",
       "    <tr>\n",
       "      <th>1</th>\n",
       "      <td>17</td>\n",
       "      <td>1</td>\n",
       "      <td>{0: 17}</td>\n",
       "      <td>{0: 17}</td>\n",
       "      <td>17</td>\n",
       "    </tr>\n",
       "    <tr>\n",
       "      <th>2</th>\n",
       "      <td>4</td>\n",
       "      <td>2</td>\n",
       "      <td>{3: 0, 4: 4}</td>\n",
       "      <td>{3: 8, 4: 4}</td>\n",
       "      <td>12</td>\n",
       "    </tr>\n",
       "  </tbody>\n",
       "</table>\n",
       "</div>"
      ],
      "text/plain": [
       "   examines  total_courses      exams_per_course  students_per_course  spc_sum\n",
       "0        34              3  {1: 8, 2: 10, 3: 16}  {1: 8, 2: 10, 3: 8}       26\n",
       "1        17              1               {0: 17}              {0: 17}       17\n",
       "2         4              2          {3: 0, 4: 4}         {3: 8, 4: 4}       12"
      ]
     },
     "execution_count": 2,
     "metadata": {},
     "output_type": "execute_result"
    }
   ],
   "source": [
    "A = {\"examines\": 34, \"total_courses\": 3, \"exams_per_course\": {1: 8, 2: 10, 3: 16}, \"students_per_course\": {1: 8, 2: 10, 3: 8}}\n",
    "B = {\"examines\": 17, \"total_courses\": 1, \"exams_per_course\": {0: 17}, \"students_per_course\": {0: 17}}\n",
    "C = {\"examines\": 4, \"total_courses\": 2, \"exams_per_course\": {3: 0, 4: 4}, \"students_per_course\": {3: 8, 4: 4}}\n",
    "\n",
    "df = pd.DataFrame([A, B, C])\n",
    "df[\"spc_sum\"] = df.apply(lambda x: sum(x.students_per_course.values()), axis = 1)\n",
    "df"
   ]
  },
  {
   "cell_type": "markdown",
   "id": "5b20988d",
   "metadata": {},
   "source": [
    "Alább pedig az egyes tárgyakról található példaadat:"
   ]
  },
  {
   "cell_type": "code",
   "execution_count": 3,
   "id": "f157a112",
   "metadata": {},
   "outputs": [],
   "source": [
    "Courses = {0: {\"students\": 17, \"teachers\": 1}, \n",
    "           1: {\"students\": 8, \"teachers\": 1 }, \n",
    "           2: {\"students\": 10, \"teachers\": 1}, \n",
    "           3: {\"students\": 16, \"teachers\": 2}, \n",
    "           4: {\"students\": 4, \"teachers\": 1}}"
   ]
  },
  {
   "cell_type": "markdown",
   "id": "bbc4ce9b",
   "metadata": {},
   "source": [
    "> **Kihívás:** Hogyan tudjuk a modell tudtára adni, hogy egy tanár lehet-e elnök? Külön modell ellenőrizze az elnöki beosztások igazságosságát? \n",
    "\n",
    "Nem, ez is egy input lesz."
   ]
  },
  {
   "cell_type": "markdown",
   "id": "e52fa756",
   "metadata": {},
   "source": [
    "> **Kérdés:** Az egyes dimenziókról feltesszük, hogy függetlenek. Tényleg azok? Ha nem, milyen függőségeket sejthetünk meg?"
   ]
  },
  {
   "cell_type": "markdown",
   "id": "c5558869",
   "metadata": {},
   "source": [
    "### Input feldolgozása"
   ]
  },
  {
   "cell_type": "code",
   "execution_count": 4,
   "id": "b92be670",
   "metadata": {},
   "outputs": [],
   "source": [
    "from collections import defaultdict"
   ]
  },
  {
   "cell_type": "code",
   "execution_count": 68,
   "id": "68305a55",
   "metadata": {},
   "outputs": [],
   "source": [
    "class ScheduleStats:\n",
    "    \n",
    "    _SCHEDULE_DATA_PATH = './data/Beosztáshoz2020osz.xlsx'\n",
    "    \n",
    "    def __init__(self):\n",
    "        self._schedule = self.load_in_sample_data()\n",
    "        self.courses = self._init_courses()\n",
    "        self.teachers = self._init_teachers()\n",
    "        \n",
    "    def load_in_sample_data(self):\n",
    "        path = ScheduleStats._SCHEDULE_DATA_PATH\n",
    "        sheet_name = '1.kör'\n",
    "        usecols = \"I:K,M:O,Q\"\n",
    "        \n",
    "        schedule = self._load_in_schedule(path, sheet_name, usecols)\n",
    "        \n",
    "        # resolve NaN due to merged cells        \n",
    "        schedule[['Elnök', 'Tag', 'Titkár']] = schedule[['Elnök', 'Tag', 'Titkár']].fillna(method = 'ffill')\n",
    "        \n",
    "        # filter out rows where student name is NaN        \n",
    "        schedule = schedule.dropna(subset = ['Név'])\n",
    "        return schedule\n",
    "        \n",
    "    def _load_in_schedule(self, path, sheet_name = None, usecols = None):            \n",
    "        return pd.read_excel(path, sheet_name = sheet_name, usecols = usecols)           \n",
    "    \n",
    "    def _init_courses(self):\n",
    "        if self._schedule is None:\n",
    "            raise Exception('Parsing course information was called before initializing a \"Schedule\" DataFrame to work with. ')\n",
    "        course_data = [\n",
    "            {\"Tárgy\": targy, \n",
    "             \"Hallgatók\": len(self._schedule[self._schedule[\"Vizsgatárgy\"] == targy]),\n",
    "             \"Tanárok\": len(self._schedule[self._schedule[\"Vizsgatárgy\"] == targy].Vizsgáztató.unique())}\n",
    "            for targy in self._schedule.Vizsgatárgy.unique()\n",
    "        ]\n",
    "        courses = pd.DataFrame(course_data)\n",
    "        # Egy tanárra jutó hallgatók száma\n",
    "        courses['ETJH'] = courses.Hallgatók / courses.Tanárok\n",
    "        courses.ETJH = courses.ETJH.round().astype(int)\n",
    "        return courses\n",
    "    \n",
    "    def _init_teachers(self):\n",
    "        if self._schedule is None:\n",
    "            raise Exception('Parsing teacher information was called before initializing a \"Schedule\" DataFrame to work with. ')\n",
    "        all_teachers = pd.unique(self._schedule[[\"Vizsgáztató\", \"Elnök\", \"Tag\", \"Titkár\"]].values.ravel('K'))\n",
    "        teacher_data = list(defaultdict())\n",
    "        for teacher in all_teachers:\n",
    "            exam_count = len(self._schedule[self._schedule.Vizsgáztató == teacher])\n",
    "            pres_count = len(self._schedule[(self._schedule.Vizsgáztató != teacher) & (self._schedule.Elnök == teacher)])\n",
    "            mem_count = len(self._schedule[(self._schedule.Vizsgáztató != teacher) & (self._schedule.Tag == teacher)])\n",
    "            sec_count = len(self._schedule[(self._schedule.Vizsgáztató != teacher) & (self._schedule.Titkár == teacher)])\n",
    "            taught_subjects = self._schedule[self._schedule.Vizsgáztató == teacher].Vizsgatárgy.unique()\n",
    "            ASI = sum(self.courses[self.courses.Tárgy.isin(taught_subjects)].ETJH)\n",
    "            teacher_dict = {\"Tanár\": teacher, \n",
    "             \"Vizsga\": exam_count, \n",
    "             \"Elnök\": pres_count,\n",
    "             \"Tag\": mem_count,\n",
    "             \"Titkár\": sec_count,\n",
    "             \"ÁHI\": ASI\n",
    "            }\n",
    "            teacher_data.append(teacher_dict)\n",
    "        return pd.DataFrame(teacher_data)    "
   ]
  },
  {
   "cell_type": "code",
   "execution_count": 78,
   "id": "4a3d2fce",
   "metadata": {},
   "outputs": [
    {
     "data": {
      "text/plain": [
       "23"
      ]
     },
     "execution_count": 78,
     "metadata": {},
     "output_type": "execute_result"
    }
   ],
   "source": [
    "ss = ScheduleStats()\n",
    "ss.teachers\n",
    "\n",
    "# TODO összes hallgatóinak a száma \n",
    "tanar = ss.teachers.Tanár.iloc[0]\n",
    "len(ss._schedule[ss._schedule.Vizsgáztató == tanar])\n",
    "# TODO óráinak a száma\n"
   ]
  },
  {
   "cell_type": "code",
   "execution_count": null,
   "id": "b51798b4",
   "metadata": {},
   "outputs": [],
   "source": []
  }
 ],
 "metadata": {
  "kernelspec": {
   "display_name": "Python 3 (ipykernel)",
   "language": "python",
   "name": "python3"
  },
  "language_info": {
   "codemirror_mode": {
    "name": "ipython",
    "version": 3
   },
   "file_extension": ".py",
   "mimetype": "text/x-python",
   "name": "python",
   "nbconvert_exporter": "python",
   "pygments_lexer": "ipython3",
   "version": "3.9.7"
  }
 },
 "nbformat": 4,
 "nbformat_minor": 5
}
